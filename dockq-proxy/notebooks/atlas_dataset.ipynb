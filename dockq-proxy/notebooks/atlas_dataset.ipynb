{
 "cells": [
  {
   "cell_type": "markdown",
   "id": "e05b4faf-795f-4dc8-b2b8-96b08f6aacc7",
   "metadata": {},
   "source": [
    "# Generate training dataset for Proxy (from AAlpha submission data)\n",
    "\n"
   ]
  },
  {
   "cell_type": "code",
   "execution_count": 1,
   "id": "620aa419-1083-495b-8576-414af2f4e717",
   "metadata": {
    "tags": []
   },
   "outputs": [],
   "source": [
    "# Libraries\n",
    "\n",
    "import pandas as pd\n",
    "import plotly.express as px\n",
    "import plotly.graph_objects as go\n",
    "import numpy as np\n",
    "from sklearn.model_selection import train_test_split\n",
    "from datetime import datetime\n",
    "from google.cloud import storage\n",
    "import matplotlib.pyplot as plt\n",
    "import requests\n"
   ]
  },
  {
   "cell_type": "code",
   "execution_count": 2,
   "id": "9c5004be-c60f-4326-91d4-d7a65129e1f1",
   "metadata": {
    "tags": []
   },
   "outputs": [],
   "source": [
    "aalpha_data = \"/mnt/user_storage/atlas_data/metadata-rc2.parquet\"  # final Aug 30.18h (+ Unifold)"
   ]
  },
  {
   "cell_type": "code",
   "execution_count": 3,
   "id": "8bd5db2b-b779-4d4b-a0ff-77bac1dbd2aa",
   "metadata": {
    "tags": []
   },
   "outputs": [
    {
     "name": "stdout",
     "output_type": "stream",
     "text": [
      "Loaded Dataframe with 773846840 rows! Enjoy!\n"
     ]
    }
   ],
   "source": [
    "# We can reuse original_df to reset the data\n",
    "df = pd.read_parquet(aalpha_data)\n",
    "\n",
    "print(f\"Loaded Dataframe with {len(df)} rows! Enjoy!\")"
   ]
  },
  {
   "cell_type": "code",
   "execution_count": 4,
   "id": "8661061b-7bd8-4271-b2f3-85da866fa9b9",
   "metadata": {
    "tags": []
   },
   "outputs": [
    {
     "data": {
      "text/html": [
       "<div>\n",
       "<style scoped>\n",
       "    .dataframe tbody tr th:only-of-type {\n",
       "        vertical-align: middle;\n",
       "    }\n",
       "\n",
       "    .dataframe tbody tr th {\n",
       "        vertical-align: top;\n",
       "    }\n",
       "\n",
       "    .dataframe thead th {\n",
       "        text-align: right;\n",
       "    }\n",
       "</style>\n",
       "<table border=\"1\" class=\"dataframe\">\n",
       "  <thead>\n",
       "    <tr style=\"text-align: right;\">\n",
       "      <th></th>\n",
       "      <th>id</th>\n",
       "      <th>is_fragment</th>\n",
       "      <th>sequenceChecksum</th>\n",
       "      <th>ptm</th>\n",
       "      <th>plddt</th>\n",
       "      <th>num_conf</th>\n",
       "      <th>len</th>\n",
       "      <th>esmfold_version</th>\n",
       "      <th>atlas_version</th>\n",
       "      <th>sequence_dbs</th>\n",
       "    </tr>\n",
       "  </thead>\n",
       "  <tbody>\n",
       "    <tr>\n",
       "      <th>0</th>\n",
       "      <td>MGYP000000077819</td>\n",
       "      <td>True</td>\n",
       "      <td>99294480DA1FB30C</td>\n",
       "      <td>0.160</td>\n",
       "      <td>0.502</td>\n",
       "      <td>0</td>\n",
       "      <td>56</td>\n",
       "      <td>v0</td>\n",
       "      <td>v0</td>\n",
       "      <td>MGnify90_2022_05,MGnify90_2023_02</td>\n",
       "    </tr>\n",
       "    <tr>\n",
       "      <th>1</th>\n",
       "      <td>MGYP000000115080</td>\n",
       "      <td>True</td>\n",
       "      <td>9BC000D98280FA56</td>\n",
       "      <td>0.345</td>\n",
       "      <td>0.520</td>\n",
       "      <td>51</td>\n",
       "      <td>298</td>\n",
       "      <td>v0</td>\n",
       "      <td>v0</td>\n",
       "      <td>MGnify90_2022_05,MGnify90_2023_02</td>\n",
       "    </tr>\n",
       "    <tr>\n",
       "      <th>2</th>\n",
       "      <td>MGYP000000184299</td>\n",
       "      <td>False</td>\n",
       "      <td>4ED4804801E0A9DF</td>\n",
       "      <td>0.875</td>\n",
       "      <td>0.942</td>\n",
       "      <td>260</td>\n",
       "      <td>269</td>\n",
       "      <td>v0</td>\n",
       "      <td>v0</td>\n",
       "      <td>MGnify90_2022_05,MGnify90_2023_02</td>\n",
       "    </tr>\n",
       "    <tr>\n",
       "      <th>3</th>\n",
       "      <td>MGYP000000249471</td>\n",
       "      <td>True</td>\n",
       "      <td>DC7604ABAE9150F5</td>\n",
       "      <td>0.440</td>\n",
       "      <td>0.868</td>\n",
       "      <td>248</td>\n",
       "      <td>286</td>\n",
       "      <td>v0</td>\n",
       "      <td>v0</td>\n",
       "      <td>MGnify90_2022_05,MGnify90_2023_02</td>\n",
       "    </tr>\n",
       "    <tr>\n",
       "      <th>4</th>\n",
       "      <td>MGYP000000315598</td>\n",
       "      <td>True</td>\n",
       "      <td>9E61310D4D3158EC</td>\n",
       "      <td>0.869</td>\n",
       "      <td>0.868</td>\n",
       "      <td>332</td>\n",
       "      <td>404</td>\n",
       "      <td>v0</td>\n",
       "      <td>v0</td>\n",
       "      <td>MGnify90_2022_05,MGnify90_2023_02</td>\n",
       "    </tr>\n",
       "  </tbody>\n",
       "</table>\n",
       "</div>"
      ],
      "text/plain": [
       "                 id  is_fragment  sequenceChecksum    ptm  plddt  num_conf  \\\n",
       "0  MGYP000000077819         True  99294480DA1FB30C  0.160  0.502         0   \n",
       "1  MGYP000000115080         True  9BC000D98280FA56  0.345  0.520        51   \n",
       "2  MGYP000000184299        False  4ED4804801E0A9DF  0.875  0.942       260   \n",
       "3  MGYP000000249471         True  DC7604ABAE9150F5  0.440  0.868       248   \n",
       "4  MGYP000000315598         True  9E61310D4D3158EC  0.869  0.868       332   \n",
       "\n",
       "   len esmfold_version atlas_version                       sequence_dbs  \n",
       "0   56              v0            v0  MGnify90_2022_05,MGnify90_2023_02  \n",
       "1  298              v0            v0  MGnify90_2022_05,MGnify90_2023_02  \n",
       "2  269              v0            v0  MGnify90_2022_05,MGnify90_2023_02  \n",
       "3  286              v0            v0  MGnify90_2022_05,MGnify90_2023_02  \n",
       "4  404              v0            v0  MGnify90_2022_05,MGnify90_2023_02  "
      ]
     },
     "execution_count": 4,
     "metadata": {},
     "output_type": "execute_result"
    }
   ],
   "source": [
    "df.head()"
   ]
  },
  {
   "cell_type": "code",
   "execution_count": 5,
   "metadata": {},
   "outputs": [],
   "source": [
    "df_small = df[df['len'] < 200]"
   ]
  },
  {
   "cell_type": "code",
   "execution_count": null,
   "metadata": {},
   "outputs": [
    {
     "ename": "KeyboardInterrupt",
     "evalue": "",
     "output_type": "error",
     "traceback": [
      "\u001b[0;31m---------------------------------------------------------------------------\u001b[0m",
      "\u001b[0;31mKeyboardInterrupt\u001b[0m                         Traceback (most recent call last)",
      "\u001b[1;32m/home/ray/pablo-dev/dockq-proxy/notebooks/atlas_dataset.ipynb Cell 7\u001b[0m line \u001b[0;36m1\n\u001b[0;32m----> <a href='vscode-notebook-cell://ssh-remote%2Banyscale-workspace-pablo-dev-ray/home/ray/pablo-dev/dockq-proxy/notebooks/atlas_dataset.ipynb#W6sdnNjb2RlLXJlbW90ZQ%3D%3D?line=0'>1</a>\u001b[0m df_small \u001b[39m=\u001b[39m df_small[df_small[\u001b[39m'\u001b[39;49m\u001b[39mesmfold_version\u001b[39;49m\u001b[39m'\u001b[39;49m] \u001b[39m==\u001b[39;49m \u001b[39m'\u001b[39;49m\u001b[39mv1\u001b[39;49m\u001b[39m'\u001b[39;49m]\n",
      "File \u001b[0;32m~/anaconda3/lib/python3.10/site-packages/pandas/core/ops/common.py:72\u001b[0m, in \u001b[0;36m_unpack_zerodim_and_defer.<locals>.new_method\u001b[0;34m(self, other)\u001b[0m\n\u001b[1;32m     68\u001b[0m             \u001b[39mreturn\u001b[39;00m \u001b[39mNotImplemented\u001b[39m\n\u001b[1;32m     70\u001b[0m other \u001b[39m=\u001b[39m item_from_zerodim(other)\n\u001b[0;32m---> 72\u001b[0m \u001b[39mreturn\u001b[39;00m method(\u001b[39mself\u001b[39;49m, other)\n",
      "File \u001b[0;32m~/anaconda3/lib/python3.10/site-packages/pandas/core/arraylike.py:42\u001b[0m, in \u001b[0;36mOpsMixin.__eq__\u001b[0;34m(self, other)\u001b[0m\n\u001b[1;32m     40\u001b[0m \u001b[39m@unpack_zerodim_and_defer\u001b[39m(\u001b[39m\"\u001b[39m\u001b[39m__eq__\u001b[39m\u001b[39m\"\u001b[39m)\n\u001b[1;32m     41\u001b[0m \u001b[39mdef\u001b[39;00m \u001b[39m__eq__\u001b[39m(\u001b[39mself\u001b[39m, other):\n\u001b[0;32m---> 42\u001b[0m     \u001b[39mreturn\u001b[39;00m \u001b[39mself\u001b[39;49m\u001b[39m.\u001b[39;49m_cmp_method(other, operator\u001b[39m.\u001b[39;49meq)\n",
      "File \u001b[0;32m~/anaconda3/lib/python3.10/site-packages/pandas/core/series.py:6243\u001b[0m, in \u001b[0;36mSeries._cmp_method\u001b[0;34m(self, other, op)\u001b[0m\n\u001b[1;32m   6240\u001b[0m rvalues \u001b[39m=\u001b[39m extract_array(other, extract_numpy\u001b[39m=\u001b[39m\u001b[39mTrue\u001b[39;00m, extract_range\u001b[39m=\u001b[39m\u001b[39mTrue\u001b[39;00m)\n\u001b[1;32m   6242\u001b[0m \u001b[39mwith\u001b[39;00m np\u001b[39m.\u001b[39merrstate(\u001b[39mall\u001b[39m\u001b[39m=\u001b[39m\u001b[39m\"\u001b[39m\u001b[39mignore\u001b[39m\u001b[39m\"\u001b[39m):\n\u001b[0;32m-> 6243\u001b[0m     res_values \u001b[39m=\u001b[39m ops\u001b[39m.\u001b[39;49mcomparison_op(lvalues, rvalues, op)\n\u001b[1;32m   6245\u001b[0m \u001b[39mreturn\u001b[39;00m \u001b[39mself\u001b[39m\u001b[39m.\u001b[39m_construct_result(res_values, name\u001b[39m=\u001b[39mres_name)\n",
      "File \u001b[0;32m~/anaconda3/lib/python3.10/site-packages/pandas/core/ops/array_ops.py:287\u001b[0m, in \u001b[0;36mcomparison_op\u001b[0;34m(left, right, op)\u001b[0m\n\u001b[1;32m    284\u001b[0m     \u001b[39mreturn\u001b[39;00m invalid_comparison(lvalues, rvalues, op)\n\u001b[1;32m    286\u001b[0m \u001b[39melif\u001b[39;00m is_object_dtype(lvalues\u001b[39m.\u001b[39mdtype) \u001b[39mor\u001b[39;00m \u001b[39misinstance\u001b[39m(rvalues, \u001b[39mstr\u001b[39m):\n\u001b[0;32m--> 287\u001b[0m     res_values \u001b[39m=\u001b[39m comp_method_OBJECT_ARRAY(op, lvalues, rvalues)\n\u001b[1;32m    289\u001b[0m \u001b[39melse\u001b[39;00m:\n\u001b[1;32m    290\u001b[0m     res_values \u001b[39m=\u001b[39m _na_arithmetic_op(lvalues, rvalues, op, is_cmp\u001b[39m=\u001b[39m\u001b[39mTrue\u001b[39;00m)\n",
      "File \u001b[0;32m~/anaconda3/lib/python3.10/site-packages/pandas/core/ops/array_ops.py:75\u001b[0m, in \u001b[0;36mcomp_method_OBJECT_ARRAY\u001b[0;34m(op, x, y)\u001b[0m\n\u001b[1;32m     73\u001b[0m     result \u001b[39m=\u001b[39m libops\u001b[39m.\u001b[39mvec_compare(x\u001b[39m.\u001b[39mravel(), y\u001b[39m.\u001b[39mravel(), op)\n\u001b[1;32m     74\u001b[0m \u001b[39melse\u001b[39;00m:\n\u001b[0;32m---> 75\u001b[0m     result \u001b[39m=\u001b[39m libops\u001b[39m.\u001b[39;49mscalar_compare(x\u001b[39m.\u001b[39;49mravel(), y, op)\n\u001b[1;32m     76\u001b[0m \u001b[39mreturn\u001b[39;00m result\u001b[39m.\u001b[39mreshape(x\u001b[39m.\u001b[39mshape)\n",
      "\u001b[0;31mKeyboardInterrupt\u001b[0m: "
     ]
    }
   ],
   "source": [
    "df_small = df_small[df_small['esmfold_version'] == 'v1']"
   ]
  },
  {
   "cell_type": "code",
   "execution_count": 26,
   "metadata": {},
   "outputs": [],
   "source": [
    "a, b = np.histogram(df_small['ptm'],bins=50)\n",
    "\n",
    "c = np.digitize(df_small['ptm'], bins=b)\n",
    "\n",
    "invw = np.zeros_like(c)\n",
    "\n",
    "for i in range(len(c)):\n",
    "    #rint(c[i] - 1)\n",
    "    if c[i] == 51: \n",
    "        invw[i] = a[c[i] - 2]\n",
    "    else:\n",
    "        invw[i] = a[c[i] - 1]"
   ]
  },
  {
   "cell_type": "code",
   "execution_count": 53,
   "metadata": {},
   "outputs": [
    {
     "name": "stdout",
     "output_type": "stream",
     "text": [
      "Actual Fractions: train, test, valid 0.00, 0.00, 0.00\n"
     ]
    }
   ],
   "source": [
    "# Number of samples to keep\n",
    "n_samples = 100_000\n",
    "\n",
    "# Fractions for splitting\n",
    "train_frac, test_frac, valid_frac = 0.7, 0.2, 0.1\n",
    "\n",
    "n_train = int(n_samples * train_frac)\n",
    "n_test = int(n_samples * test_frac)\n",
    "n_valid = int(n_samples * valid_frac)\n",
    "\n",
    "train_data = df_small.sample(n=n_train, weights=1/invw)\n",
    "test_data = df_small.sample(n=n_test, weights=1/invw)\n",
    "valid_data = df_small.sample(n=n_valid, weights=1/invw)\n",
    "\n",
    "train_data[\"split\"] = \"train\"\n",
    "test_data[\"split\"] = \"test\"\n",
    "valid_data[\"split\"] = \"validation\"\n",
    "\n",
    "dataset = pd.concat([train_data, test_data, valid_data])"
   ]
  },
  {
   "cell_type": "code",
   "execution_count": 55,
   "metadata": {},
   "outputs": [
    {
     "data": {
      "image/png": "[encoded data removed]",
      "text/plain": [
       "<Figure size 640x480 with 1 Axes>"
      ]
     },
     "metadata": {},
     "output_type": "display_data"
    }
   ],
   "source": [
    "# Verify our PTM follows a uniform histogram\n",
    "plt.hist(dataset['ptm'], bins=50, density=True);"
   ]
  },
  {
   "cell_type": "code",
   "execution_count": null,
   "metadata": {},
   "outputs": [],
   "source": [
    "sequences = []\n",
    "for i in range(len(dataset)):\n",
    "    response = requests.get(f\"https://api.esmatlas.com/fetchSequence/{dataset['id'][i]}\", verify=False)\n",
    "    sequences.append(response.text[14:-2])\n",
    "    \n",
    "dataset[\"sequence\"] = sequences"
   ]
  },
  {
   "cell_type": "code",
   "execution_count": 56,
   "metadata": {},
   "outputs": [
    {
     "name": "stdout",
     "output_type": "stream",
     "text": [
      "Save dataset with name: atlas_dataset_v0_2023111009H29S\n",
      "&info:\n",
      "\n",
      "This dataset was generated on 2023111009H29S.\n",
      "This dataset was built based on aalpha data @ /mnt/user_storage/atlas_data/metadata-rc2.parquet.\n",
      "\n",
      "We filtered out the data folded from unifold & afm.\n",
      "We split data to keep distribution of dockq scores.\n",
      "\n",
      "Save data @ gs://casual-storage/aalpha\n"
     ]
    }
   ],
   "source": [
    "save_bucket_name = \"casual-storage\"\n",
    "save_gcs_dir = \"aalpha\"\n",
    "\n",
    "suffix = f\"v0\"\n",
    "\n",
    "# Getting the current date and time and formatting it as YYYYMMDD\n",
    "current_date = datetime.now().strftime(\"%Y%m%d%HH%SS\")\n",
    "\n",
    "# Saving the dataset with the current date in the filename\n",
    "dataset_filename = f\"atlas_dataset_{suffix}_{current_date}\"\n",
    "\n",
    "# Creating and saving an info file\n",
    "info_data = \"\"\"\n",
    "This dataset was generated on {date_info}.\n",
    "This dataset was built based on aalpha data @ {aalpha_data}.\n",
    "\n",
    "We filtered out the data folded from unifold & afm.\n",
    "We split data to keep distribution of dockq scores.\n",
    "\"\"\".format(\n",
    "    date_info=current_date,\n",
    "    aalpha_data=aalpha_data,\n",
    ")\n",
    "\n",
    "print(f\"Save dataset with name: {dataset_filename}\\n&info:\\n{info_data}\")\n",
    "print(f\"Save data @ gs://{save_bucket_name}/{save_gcs_dir}\")\n",
    "\n",
    "\n",
    "# Save query \n",
    "storage_client = storage.Client()\n",
    "bucket = storage_client.bucket(save_bucket_name)\n",
    "blob = bucket.blob(f\"{save_gcs_dir}/{dataset_filename}_info.txt\")\n",
    "blob.upload_from_string(info_data)\n",
    "\n",
    "# Save dataframe!\n",
    "dataset.to_csv(f\"gs://{save_bucket_name}/{save_gcs_dir}/{dataset_filename}.csv\", index=False)"
   ]
  }
 ],
 "metadata": {
  "kernelspec": {
   "display_name": "Python 3 (ipykernel)",
   "language": "python",
   "name": "python3"
  },
  "language_info": {
   "codemirror_mode": {
    "name": "ipython",
    "version": 3
   },
   "file_extension": ".py",
   "mimetype": "text/x-python",
   "name": "python",
   "nbconvert_exporter": "python",
   "pygments_lexer": "ipython3",
   "version": "3.10.8"
  }
 },
 "nbformat": 4,
 "nbformat_minor": 5
}
